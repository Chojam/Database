{
  "nbformat": 4,
  "nbformat_minor": 0,
  "metadata": {
    "colab": {
      "provenance": [],
      "collapsed_sections": [],
      "authorship_tag": "ABX9TyMu1QTT54Sz9o8DwRDQNJ6w",
      "include_colab_link": true
    },
    "kernelspec": {
      "name": "python3",
      "display_name": "Python 3"
    },
    "language_info": {
      "name": "python"
    }
  },
  "cells": [
    {
      "cell_type": "markdown",
      "metadata": {
        "id": "view-in-github",
        "colab_type": "text"
      },
      "source": [
        "<a href=\"https://colab.research.google.com/github/Chojam/Database/blob/main/Week7.ipynb\" target=\"_parent\"><img src=\"https://colab.research.google.com/assets/colab-badge.svg\" alt=\"Open In Colab\"/></a>"
      ]
    },
    {
      "cell_type": "code",
      "execution_count": 1,
      "metadata": {
        "id": "5k0-oRUHeK7h"
      },
      "outputs": [],
      "source": [
        "from sqlalchemy import create_engine\n",
        "my_conn = create_engine(\"sqlite:////content/my_db.db\")"
      ]
    },
    {
      "cell_type": "code",
      "source": [
        "r_set = my_conn.execute('''select name from sqlite_master where type = 'table' ''')\n",
        "for row in r_set: print(row)"
      ],
      "metadata": {
        "colab": {
          "base_uri": "https://localhost:8080/"
        },
        "id": "DRzEySYZetlb",
        "outputId": "65d8cb89-9596-43d4-8987-7fdc066193bb"
      },
      "execution_count": 2,
      "outputs": [
        {
          "output_type": "stream",
          "name": "stdout",
          "text": [
            "('category',)\n",
            "('subcategory',)\n",
            "('student',)\n"
          ]
        }
      ]
    },
    {
      "cell_type": "code",
      "source": [
        "r_set = my_conn.execute('''SELECT * from student''');\n",
        "for row in r_set: print(row)"
      ],
      "metadata": {
        "colab": {
          "base_uri": "https://localhost:8080/"
        },
        "id": "Lh_WfgaQfi6i",
        "outputId": "c680907c-055f-4a23-9938-7e85eb66ef07"
      },
      "execution_count": 3,
      "outputs": [
        {
          "output_type": "stream",
          "name": "stdout",
          "text": [
            "(1, 'John Deo', 'Four', 75, 'female')\n",
            "(2, 'Max Ruin', 'Three', 85, 'male')\n",
            "(3, 'Arnold', 'Three', 55, 'male')\n",
            "(4, 'Krish Star', 'Four', 60, 'female')\n",
            "(5, 'John Mike', 'Four', 60, 'female')\n",
            "(6, 'Alex John', 'Four', 55, 'male')\n",
            "(7, 'My John Rob', 'Five', 78, 'male')\n",
            "(8, 'Asruid', 'Five', 85, 'male')\n",
            "(9, 'Tes Qry', 'Six', 78, 'male')\n",
            "(10, 'Big John', 'Four', 55, 'female')\n",
            "(11, 'Ronald', 'Six', 89, 'female')\n",
            "(12, 'Recky', 'Six', 94, 'female')\n",
            "(13, 'Kty', 'Seven', 88, 'female')\n",
            "(14, 'Bigy', 'Seven', 88, 'female')\n",
            "(15, 'Tade Row', 'Four', 88, 'male')\n",
            "(16, 'Gimmy', 'Four', 88, 'male')\n",
            "(17, 'Tumyu', 'Six', 54, 'male')\n",
            "(18, 'Honny', 'Five', 75, 'male')\n",
            "(19, 'Tinny', 'Nine', 18, 'male')\n",
            "(20, 'Jackly', 'Nine', 65, 'female')\n",
            "(21, 'Babby John', 'Four', 69, 'female')\n",
            "(22, 'Reggid', 'Seven', 55, 'female')\n",
            "(23, 'Herod', 'Eight', 79, 'male')\n",
            "(24, 'Tiddy Now', 'Seven', 78, 'male')\n",
            "(25, 'Giff Tow', 'Seven', 88, 'male')\n",
            "(26, 'Crelea', 'Seven', 79, 'male')\n",
            "(27, 'Big Nose', 'Three', 81, 'female')\n",
            "(28, 'Rojj Base', 'Seven', 86, 'female')\n",
            "(29, 'Tess Played', 'Seven', 55, 'male')\n",
            "(30, 'Reppy Red', 'Six', 79, 'female')\n",
            "(31, 'Marry Toeey', 'Four', 88, 'male')\n",
            "(32, 'Binn Rott', 'Seven', 90, 'female')\n",
            "(33, 'Kenn Rein', 'Six', 96, 'female')\n",
            "(34, 'Gain Toe', 'Seven', 69, 'male')\n",
            "(35, 'Rows Noump', 'Six', 88, 'female')\n"
          ]
        }
      ]
    },
    {
      "cell_type": "code",
      "source": [
        "# display all records of perticular class only\n",
        "q = \"SELECT id, name, class, mark, sex FROM student WHERE class = 'Four'\"\n",
        "my_cursor = my_conn.execute(q)\n",
        "for row in my_cursor:\n",
        "   print(row)"
      ],
      "metadata": {
        "colab": {
          "base_uri": "https://localhost:8080/"
        },
        "id": "Omed0Cj3htWy",
        "outputId": "3d03f64a-28e0-4553-ef4a-db16d192da21"
      },
      "execution_count": 4,
      "outputs": [
        {
          "output_type": "stream",
          "name": "stdout",
          "text": [
            "(1, 'John Deo', 'Four', 75, 'female')\n",
            "(4, 'Krish Star', 'Four', 60, 'female')\n",
            "(5, 'John Mike', 'Four', 60, 'female')\n",
            "(6, 'Alex John', 'Four', 55, 'male')\n",
            "(10, 'Big John', 'Four', 55, 'female')\n",
            "(15, 'Tade Row', 'Four', 88, 'male')\n",
            "(16, 'Gimmy', 'Four', 88, 'male')\n",
            "(21, 'Babby John', 'Four', 69, 'female')\n",
            "(31, 'Marry Toeey', 'Four', 88, 'male')\n"
          ]
        }
      ]
    },
    {
      "cell_type": "code",
      "source": [
        "# select record base on id\n",
        "q = \"SELECT id, name, class, mark, sex FROM student WHERE id = 8\"\n",
        "my_cursor = my_conn.execute(q)\n",
        "data_row = my_cursor.fetchone()\n",
        "# print(type(data_row))\n",
        "print(data_row[0], data_row[1], data_row[3])"
      ],
      "metadata": {
        "colab": {
          "base_uri": "https://localhost:8080/"
        },
        "id": "a3MJMelXil1J",
        "outputId": "273e7acd-95cd-4dfa-ddc8-90fc6028e219"
      },
      "execution_count": 5,
      "outputs": [
        {
          "output_type": "stream",
          "name": "stdout",
          "text": [
            "8 Asruid 85\n"
          ]
        }
      ]
    },
    {
      "cell_type": "code",
      "source": [
        "# Show 10 records only\n",
        "q = \"SELECT id, name, class, mark, sex FROM student limit 0,10\"\n",
        "my_cursor = my_conn.execute(q)\n",
        "data_row = my_cursor.fetchall()\n",
        "print(type(data_row))\n",
        "print(\"No of records : \", len(data_row))\n",
        "for row in data_row: print(row)"
      ],
      "metadata": {
        "colab": {
          "base_uri": "https://localhost:8080/"
        },
        "id": "F59kz9pvjWFY",
        "outputId": "150e09cb-5e33-4096-bfe7-813d7cca9d7b"
      },
      "execution_count": 6,
      "outputs": [
        {
          "output_type": "stream",
          "name": "stdout",
          "text": [
            "<class 'list'>\n",
            "No of records :  10\n",
            "(1, 'John Deo', 'Four', 75, 'female')\n",
            "(2, 'Max Ruin', 'Three', 85, 'male')\n",
            "(3, 'Arnold', 'Three', 55, 'male')\n",
            "(4, 'Krish Star', 'Four', 60, 'female')\n",
            "(5, 'John Mike', 'Four', 60, 'female')\n",
            "(6, 'Alex John', 'Four', 55, 'male')\n",
            "(7, 'My John Rob', 'Five', 78, 'male')\n",
            "(8, 'Asruid', 'Five', 85, 'male')\n",
            "(9, 'Tes Qry', 'Six', 78, 'male')\n",
            "(10, 'Big John', 'Four', 55, 'female')\n"
          ]
        },
        {
          "output_type": "stream",
          "name": "stderr",
          "text": [
            "ERROR:sqlalchemy.pool.impl.NullPool:Exception during reset or similar\n",
            "Traceback (most recent call last):\n",
            "  File \"/usr/local/lib/python3.7/dist-packages/sqlalchemy/pool/base.py\", line 753, in _finalize_fairy\n",
            "    fairy._reset(pool)\n",
            "  File \"/usr/local/lib/python3.7/dist-packages/sqlalchemy/pool/base.py\", line 1004, in _reset\n",
            "    pool._dialect.do_rollback(self)\n",
            "  File \"/usr/local/lib/python3.7/dist-packages/sqlalchemy/engine/default.py\", line 683, in do_rollback\n",
            "    dbapi_connection.rollback()\n",
            "sqlite3.ProgrammingError: SQLite objects created in a thread can only be used in that same thread. The object was created in thread id 140057412941696 and this is thread id 140056990410496.\n"
          ]
        }
      ]
    },
    {
      "cell_type": "code",
      "source": [
        "# Delete sample table student\n",
        "from sqlalchemy.exc import SQLAlchemyError\n",
        "try:\n",
        "  my_conn.execute('''DROP table student;''')\n",
        "  print(\"student table deleted\")\n",
        "except SQLAlchemyError as e:\n",
        "    #print(e)\n",
        "    error = str(e._dict_['orig'])\n",
        "    print(error)"
      ],
      "metadata": {
        "colab": {
          "base_uri": "https://localhost:8080/"
        },
        "id": "pODXP7Npm2gx",
        "outputId": "9cefbda9-457a-40ef-a6f9-3dfda7a92beb"
      },
      "execution_count": 7,
      "outputs": [
        {
          "output_type": "stream",
          "name": "stdout",
          "text": [
            "student table deleted\n"
          ]
        }
      ]
    },
    {
      "cell_type": "code",
      "source": [
        "# creating student table\n",
        "from sqlalchemy.exc import SQLAlchemyError\n",
        "try:\n",
        "  my_conn.execute('''\n",
        "    CREATE TABLE IF NOT EXISTS student(id integer primary key, name text, class text,\n",
        "      mark integer, sex text);''')\n",
        "  print(\"Student Table created successfully\")\n",
        "except SQLAlchemyError as e:\n",
        "  #print(e)\n",
        "  error = str(e._dict_['orig'])\n",
        "  print(error)"
      ],
      "metadata": {
        "colab": {
          "base_uri": "https://localhost:8080/"
        },
        "id": "Erco79Y4owcV",
        "outputId": "07a8b9a3-effc-47fd-d20a-07702df15a7e"
      },
      "execution_count": 8,
      "outputs": [
        {
          "output_type": "stream",
          "name": "stdout",
          "text": [
            "Student Table created successfully\n"
          ]
        }
      ]
    },
    {
      "cell_type": "code",
      "source": [
        "# add records to student table\n",
        "r_set = my_conn.execute('''INSERT INTO 'student'\n",
        "('id', 'name', 'class', 'mark', 'sex') VALUES\n",
        "(1, 'John Deo', 'Four', 75, 'female'),\n",
        "(2, 'Max Ruin', 'Three', 85, 'male'),\n",
        "(3, 'Arnold', 'Three', 55, 'male'),\n",
        "(4, 'Krish Star', 'Four', 60, 'female'),\n",
        "(5, 'John Mike', 'Four', 60, 'female'),\n",
        "(6, 'Alex John', 'Four', 55, 'male'),\n",
        "(7, 'My John Rob', 'Five', 78, 'male'),\n",
        "(8, 'Asruid', 'Five', 85, 'male'),\n",
        "(9, 'Tes Qry', 'Six', 78, 'male'),\n",
        "(10, 'Big John', 'Four', 55, 'female'),\n",
        "(11, 'Ronald', 'Six', 89, 'female'),\n",
        "(12, 'Recky', 'Six', 94, 'female'),\n",
        "(13, 'Kty', 'Seven', 88, 'female'),\n",
        "(14, 'Bigy', 'Seven', 88, 'female'),\n",
        "(15, 'Tade Row', 'Four', 88, 'male'),\n",
        "(16, 'Gimmy', 'Four', 88, 'male'),\n",
        "(17, 'Tumyu', 'Six', 54, 'male'),\n",
        "(18, 'Honny', 'Five', 75, 'male'),\n",
        "(19, 'Tinny', 'Nine', 18, 'male'),\n",
        "(20, 'Jackly', 'Nine', 65, 'female'),\n",
        "(21, 'Babby John', 'Four', 69, 'female'),\n",
        "(22, 'Reggid', 'Seven', 55, 'female'),\n",
        "(23, 'Herod', 'Eight', 79, 'male'),\n",
        "(24, 'Tiddy Now', 'Seven', 78, 'male'),\n",
        "(25, 'Giff Tow', 'Seven', 88, 'male'),\n",
        "(26, 'Crelea', 'Seven', 79, 'male'),\n",
        "(27, 'Big Nose', 'Three', 81, 'female'),\n",
        "(28, 'Rojj Base', 'Seven', 86, 'female'),\n",
        "(29, 'Tess Played', 'Seven', 55, 'male'),\n",
        "(30, 'Reppy Red', 'Six', 79, 'female'),\n",
        "(31, 'Marry Toeey', 'Four', 88, 'male'),\n",
        "(32, 'Binn Rott', 'Seven', 90, 'female'),\n",
        "(33, 'Kenn Rein', 'Six', 96, 'female'),\n",
        "(34, 'Gain Toe', 'Seven', 69, 'male'),\n",
        "(35, 'Rows Noump', 'Six', 88, 'female');''')"
      ],
      "metadata": {
        "id": "9i5F5gQGrLtS"
      },
      "execution_count": 9,
      "outputs": []
    },
    {
      "cell_type": "code",
      "source": [
        "from sqlalchemy import create_engine\n",
        "my_conn = create_engine(\"sqlite:////content/my_db2.db\")"
      ],
      "metadata": {
        "id": "JtfTOiPGrrET"
      },
      "execution_count": 10,
      "outputs": []
    }
  ]
}